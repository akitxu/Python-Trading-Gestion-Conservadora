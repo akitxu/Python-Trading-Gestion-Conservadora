{
 "cells": [
  {
   "cell_type": "markdown",
   "id": "60a6cc42-74e8-451d-91d5-0c6f639cfefd",
   "metadata": {},
   "source": [
    "# Importar histórico de Fear & Gread"
   ]
  },
  {
   "cell_type": "code",
   "execution_count": 2,
   "id": "3d3f7c89-f3bd-4664-8709-1ab4d4b93585",
   "metadata": {},
   "outputs": [
    {
     "data": {
      "text/html": [
       "<div>\n",
       "<style scoped>\n",
       "    .dataframe tbody tr th:only-of-type {\n",
       "        vertical-align: middle;\n",
       "    }\n",
       "\n",
       "    .dataframe tbody tr th {\n",
       "        vertical-align: top;\n",
       "    }\n",
       "\n",
       "    .dataframe thead th {\n",
       "        text-align: right;\n",
       "    }\n",
       "</style>\n",
       "<table border=\"1\" class=\"dataframe\">\n",
       "  <thead>\n",
       "    <tr style=\"text-align: right;\">\n",
       "      <th></th>\n",
       "      <th>fear_metric</th>\n",
       "      <th>rating</th>\n",
       "    </tr>\n",
       "    <tr>\n",
       "      <th>Date</th>\n",
       "      <th></th>\n",
       "      <th></th>\n",
       "    </tr>\n",
       "  </thead>\n",
       "  <tbody>\n",
       "    <tr>\n",
       "      <th>2021-01-04</th>\n",
       "      <td>50.000000</td>\n",
       "      <td>neutral</td>\n",
       "    </tr>\n",
       "    <tr>\n",
       "      <th>2021-01-22</th>\n",
       "      <td>67.800000</td>\n",
       "      <td>greed</td>\n",
       "    </tr>\n",
       "    <tr>\n",
       "      <th>2021-01-25</th>\n",
       "      <td>67.666667</td>\n",
       "      <td>greed</td>\n",
       "    </tr>\n",
       "  </tbody>\n",
       "</table>\n",
       "</div>"
      ],
      "text/plain": [
       "            fear_metric   rating\n",
       "Date                            \n",
       "2021-01-04    50.000000  neutral\n",
       "2021-01-22    67.800000    greed\n",
       "2021-01-25    67.666667    greed"
      ]
     },
     "execution_count": 2,
     "metadata": {},
     "output_type": "execute_result"
    }
   ],
   "source": [
    "import os\n",
    "import pandas as pd\n",
    "from datetime import date\n",
    "\n",
    "# source = https://freshprinceofstandarderror.com/finance/fear-and-greed-index-data-in-python/\n",
    "# getting data in JSON format \n",
    "import os\n",
    "import requests, json\n",
    "import pandas as pd\n",
    "\n",
    "#os.chdir('/media/enri/Mi_Proyecto/Py_Proyecto_2022/Gestion-Conservadora-de-Activos_Financieros/Datos/Ficheros_varios')\n",
    "\n",
    "headers = {\n",
    "   'user-agent': 'Mozilla/5.0 (Windows NT 10.0; Win64; x64) AppleWebKit/537.36 (KHTML, like Gecko) Chrome/101.0.4951.67 Safari/537.36'\n",
    "}\n",
    "\n",
    "BASE_URL = \"https://production.dataviz.cnn.io/index/fearandgreed/graphdata\"\n",
    "START_DATE = '2021-01-01'\n",
    "\n",
    "r = requests.get(\"{}/{}\".format(BASE_URL, START_DATE), headers=headers)\n",
    "data = r.json()\n",
    "\n",
    "fear_greed_index = pd.DataFrame(data['fear_and_greed_historical']['data'])\n",
    "fear_greed_index['x'] = pd.to_datetime(fear_greed_index['x']//1000, unit='s').dt.strftime('%Y-%m-%d')\n",
    "fear_greed_index = fear_greed_index.rename(columns={'x':'date','y':'fear_metric'})\n",
    "\n",
    "\n",
    "fear_greed_index['date'] = fear_greed_index['date'].astype('datetime64[ns]')\n",
    "fear_greed_index['date'] = pd.to_datetime(fear_greed_index['date'], format='%Y%m%d')\n",
    "\n",
    "fear_greed_index = fear_greed_index.rename(columns={'date':'Date' })\n",
    "fear_greed_index.set_index('Date', inplace = True)\n",
    "\n",
    "df_fear_gear = fear_greed_index.drop_duplicates() \n",
    "df_fear_gear.to_excel('df_fear_gear.xlsx')\n",
    "df_fear_gear.to_csv('df_fear_gear.csv')\n",
    "\n",
    "df_fear_gear[:3]"
   ]
  }
 ],
 "metadata": {
  "kernelspec": {
   "display_name": "Python 3 (ipykernel)",
   "language": "python",
   "name": "python3"
  },
  "language_info": {
   "codemirror_mode": {
    "name": "ipython",
    "version": 3
   },
   "file_extension": ".py",
   "mimetype": "text/x-python",
   "name": "python",
   "nbconvert_exporter": "python",
   "pygments_lexer": "ipython3",
   "version": "3.9.7"
  }
 },
 "nbformat": 4,
 "nbformat_minor": 5
}
