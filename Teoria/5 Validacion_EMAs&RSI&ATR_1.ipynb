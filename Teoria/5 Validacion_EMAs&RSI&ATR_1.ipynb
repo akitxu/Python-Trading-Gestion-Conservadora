version https://git-lfs.github.com/spec/v1
oid sha256:4ce92271fd0bdfef8ba639b7e9a6280e3fce2774c0ff0530f0fb887b214efb13
size 13348865
