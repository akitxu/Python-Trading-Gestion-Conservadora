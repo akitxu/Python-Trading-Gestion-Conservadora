version https://git-lfs.github.com/spec/v1
oid sha256:3e719689a2dd8dfe9b6f2545760c80197eb7671d837f855a190670e7c7a0dc3a
size 20746675
