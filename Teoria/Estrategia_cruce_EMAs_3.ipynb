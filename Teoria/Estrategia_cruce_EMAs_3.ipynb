version https://git-lfs.github.com/spec/v1
oid sha256:4944a33f6edfa3be15e6333e39f95e8db08d4c9ba8da298304b2b81d1961fc75
size 18227625
