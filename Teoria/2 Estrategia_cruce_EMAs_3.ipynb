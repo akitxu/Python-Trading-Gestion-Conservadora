version https://git-lfs.github.com/spec/v1
oid sha256:ceb1a75b5a0612652d38ca5c5c7b9bac1747b5b4918af6f6c41f57a8429255b7
size 13474541
