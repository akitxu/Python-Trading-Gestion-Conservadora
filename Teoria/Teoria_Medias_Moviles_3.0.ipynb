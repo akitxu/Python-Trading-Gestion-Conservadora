version https://git-lfs.github.com/spec/v1
oid sha256:43d302a486deb6f818dc51f1c44aef3f7bd0f466a6a2d743c95ff801dc133189
size 5821096
