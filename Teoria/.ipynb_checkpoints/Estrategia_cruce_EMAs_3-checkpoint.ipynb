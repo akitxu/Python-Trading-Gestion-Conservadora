version https://git-lfs.github.com/spec/v1
oid sha256:6f9f28579f0acc9d8c948b6c0e02ef9fa1caec8b719af7673f10f0d718b70775
size 15533122
