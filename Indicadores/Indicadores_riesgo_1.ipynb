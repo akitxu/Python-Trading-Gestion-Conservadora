version https://git-lfs.github.com/spec/v1
oid sha256:0f7e4790131b9ea2acdcd746a7509d9a02166711eccdd87fd26d688643f406dd
size 281176
