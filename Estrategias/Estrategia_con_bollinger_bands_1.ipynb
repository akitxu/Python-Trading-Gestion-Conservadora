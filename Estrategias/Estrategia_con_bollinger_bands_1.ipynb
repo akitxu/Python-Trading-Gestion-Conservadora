version https://git-lfs.github.com/spec/v1
oid sha256:14fefe61bf1c9718c13689e31e4d60a854cd9f04ac75b51bae8e789e4178d54f
size 1370208
