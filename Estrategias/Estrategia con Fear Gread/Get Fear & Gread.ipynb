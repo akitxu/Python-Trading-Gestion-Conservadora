version https://git-lfs.github.com/spec/v1
oid sha256:4e40752ee395e2e53b527507069afaa8b6bd3946f265a87e4c3b1528034f99c5
size 4274
