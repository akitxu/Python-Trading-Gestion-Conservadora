version https://git-lfs.github.com/spec/v1
oid sha256:9c673f377adfa00eaeb79686b48b67550fc3e86220db5958c30ca1ba993dd6f6
size 1053248
