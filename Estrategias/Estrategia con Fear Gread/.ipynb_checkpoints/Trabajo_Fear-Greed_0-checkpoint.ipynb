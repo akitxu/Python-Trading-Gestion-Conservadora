version https://git-lfs.github.com/spec/v1
oid sha256:29cae53621df89db0b6572cae635448998e28962c0cc9f65895afcd1cd6729be
size 1182983
