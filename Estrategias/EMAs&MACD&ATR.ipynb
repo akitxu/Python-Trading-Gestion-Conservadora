version https://git-lfs.github.com/spec/v1
oid sha256:23d311fc33755500b86a5cd00d972176ea3a80ca9756eca9e85a32e2a6bee529
size 8679873
