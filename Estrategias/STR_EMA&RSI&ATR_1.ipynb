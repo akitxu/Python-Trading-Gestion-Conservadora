version https://git-lfs.github.com/spec/v1
oid sha256:0ef8fe6401eac7cc299c3d5b7f7c7db92a32325f84ceecf7374d15481d47f4d5
size 8339526
